{
 "cells": [
  {
   "cell_type": "code",
   "execution_count": null,
   "metadata": {},
   "outputs": [],
   "source": [
    "#referring tutorial by Soumith Chintala\n",
    "#Deep Learning with PyTorch: A 60 Minute Blitz (https://pytorch.org/tutorials/beginner/blitz/tensor_tutorial.html#sphx-glr-beginner-blitz-tensor-tutorial-py)"
   ]
  },
  {
   "cell_type": "code",
   "execution_count": 2,
   "metadata": {},
   "outputs": [],
   "source": [
    "import torch\n",
    "import numpy as np"
   ]
  },
  {
   "cell_type": "code",
   "execution_count": 50,
   "metadata": {},
   "outputs": [],
   "source": [
    "def get_variable_info(variable):\n",
    "    print(f\"\\n--{variable}\")\n",
    "    if type(variable) == torch.Tensor:\n",
    "        print(f\"dtype: {variable.dtype}\")\n",
    "        print(f\"shape: {variable.shape}\")\n",
    "    else:\n",
    "        print(f\"type: {type(variable)}\")\n",
    "        print(f\"len: {len(variable)}\")"
   ]
  },
  {
   "cell_type": "code",
   "execution_count": 27,
   "metadata": {},
   "outputs": [
    {
     "name": "stdout",
     "output_type": "stream",
     "text": [
      "\n",
      "--tensor([[1, 2, 3],\n",
      "        [4, 5, 6]])\n",
      "dtype: torch.int64\n",
      "shape: torch.Size([2, 3])\n"
     ]
    }
   ],
   "source": [
    "data = [[1,2,3],[4,5,6]]\n",
    "x_data = torch.tensor(data)\n",
    "get_variable_info(x_data)"
   ]
  },
  {
   "cell_type": "code",
   "execution_count": 28,
   "metadata": {},
   "outputs": [
    {
     "name": "stdout",
     "output_type": "stream",
     "text": [
      "\n",
      "--tensor([[1, 1, 1],\n",
      "        [1, 1, 1]])\n",
      "dtype: torch.int64\n",
      "shape: torch.Size([2, 3])\n",
      "\n",
      "--tensor([[0.5562, 0.7529, 0.1084],\n",
      "        [0.5605, 0.5307, 0.9213]])\n",
      "dtype: torch.float32\n",
      "shape: torch.Size([2, 3])\n"
     ]
    }
   ],
   "source": [
    "x_ones = torch.ones_like(x_data) # retains the properties of x_data\n",
    "get_variable_info(x_ones)\n",
    "\n",
    "x_rand = torch.rand_like(x_data, dtype=torch.float) # overrides the datatype of x_data\n",
    "get_variable_info(x_rand)"
   ]
  },
  {
   "cell_type": "code",
   "execution_count": 29,
   "metadata": {},
   "outputs": [
    {
     "name": "stdout",
     "output_type": "stream",
     "text": [
      "\n",
      "--tensor([[0.6319, 0.7137, 0.4915],\n",
      "        [0.1430, 0.4199, 0.0435]])\n",
      "dtype: torch.float32\n",
      "shape: torch.Size([2, 3])\n",
      "\n",
      "--tensor([[1., 1., 1.],\n",
      "        [1., 1., 1.]])\n",
      "dtype: torch.float32\n",
      "shape: torch.Size([2, 3])\n",
      "\n",
      "--tensor([[0., 0., 0.],\n",
      "        [0., 0., 0.]])\n",
      "dtype: torch.float32\n",
      "shape: torch.Size([2, 3])\n"
     ]
    }
   ],
   "source": [
    "#randoms or constants\n",
    "shape = (2,3)\n",
    "random_tensor = torch.rand(shape)\n",
    "ones_tensor = torch.ones(shape)\n",
    "zeros_tensor = torch.zeros(shape)\n",
    "get_variable_info(random_tensor)\n",
    "get_variable_info(ones_tensor)\n",
    "get_variable_info(zeros_tensor)"
   ]
  },
  {
   "cell_type": "code",
   "execution_count": 30,
   "metadata": {},
   "outputs": [
    {
     "name": "stdout",
     "output_type": "stream",
     "text": [
      "Shape of tensor: torch.Size([3, 4])\n",
      "Datatype of tensor: torch.float32\n",
      "Device tensor is stored on: cpu\n"
     ]
    }
   ],
   "source": [
    "#tensor attributes\n",
    "tensor = torch.rand(3,4)\n",
    "\n",
    "print(f\"Shape of tensor: {tensor.shape}\")\n",
    "print(f\"Datatype of tensor: {tensor.dtype}\")\n",
    "print(f\"Device tensor is stored on: {tensor.device}\")"
   ]
  },
  {
   "cell_type": "code",
   "execution_count": 41,
   "metadata": {},
   "outputs": [
    {
     "name": "stdout",
     "output_type": "stream",
     "text": [
      "Is CUDA-Enabled GPU available: True\n",
      "Number of CUDA-Enabled GPU's available: 1\n",
      "GPU index: 0 || GPU name: GeForce GTX 1050 Ti\n"
     ]
    }
   ],
   "source": [
    "#cuda\n",
    "print(f\"Is CUDA-Enabled GPU available: {torch.cuda.is_available()}\")\n",
    "print(f\"Number of CUDA-Enabled GPU's available: {torch.cuda.device_count()}\")\n",
    "for i in range(torch.cuda.device_count()):\n",
    "    print(f\"GPU index: {i} || GPU name: {torch.cuda.get_device_name(i)}\")"
   ]
  },
  {
   "cell_type": "code",
   "execution_count": 44,
   "metadata": {},
   "outputs": [
    {
     "name": "stdout",
     "output_type": "stream",
     "text": [
      "\n",
      "--tensor([[1., 1., 1., 1.],\n",
      "        [1., 1., 1., 1.],\n",
      "        [1., 1., 1., 1.],\n",
      "        [1., 1., 1., 1.]])\n",
      "dtype: torch.float32\n",
      "shape: torch.Size([4, 4])\n",
      "\n",
      "--tensor([[1., 1., 1., 1.],\n",
      "        [1., 1., 1., 1.],\n",
      "        [1., 1., 1., 1.],\n",
      "        [1., 1., 1., 1.]], device='cuda:0')\n",
      "dtype: torch.float32\n",
      "shape: torch.Size([4, 4])\n"
     ]
    }
   ],
   "source": [
    "# move tensor to the GPU if available\n",
    "tensor = torch.ones(4, 4) \n",
    "get_variable_info(tensor) #attributes before moving tensor from cpu to gpu\n",
    "\n",
    "device = 'cuda' if torch.cuda.is_available() else 'cpu' #get device name\n",
    "tensor = tensor.to(device)\n",
    "get_variable_info(tensor)  #attributes before moving tensor from cpu to gpu"
   ]
  },
  {
   "cell_type": "code",
   "execution_count": 45,
   "metadata": {},
   "outputs": [
    {
     "name": "stdout",
     "output_type": "stream",
     "text": [
      "tensor([[1., 0., 1., 1.],\n",
      "        [1., 0., 1., 1.],\n",
      "        [1., 0., 1., 1.],\n",
      "        [1., 0., 1., 1.]], device='cuda:0')\n"
     ]
    }
   ],
   "source": [
    "#Some Basic Tensor Operations\n",
    "tensor[:,1] = 0 \n",
    "print(tensor)"
   ]
  },
  {
   "cell_type": "code",
   "execution_count": 16,
   "metadata": {},
   "outputs": [
    {
     "name": "stdout",
     "output_type": "stream",
     "text": [
      "tensor([0, 1, 0, 1, 0])\n",
      "tensor([[0., 0., 0., 0., 0.],\n",
      "        [0., 0., 0., 0., 0.]])\n"
     ]
    },
    {
     "data": {
      "text/plain": [
       "tensor([[0., 1., 0., 1., 0.],\n",
       "        [0., 0., 0., 0., 0.]])"
      ]
     },
     "execution_count": 16,
     "metadata": {},
     "output_type": "execute_result"
    }
   ],
   "source": [
    "\n",
    "t1 = torch.tensor([0,1,0,1,0]) #5x1\n",
    "print(t1)\n",
    "t2 = torch.zeros(shape)\n",
    "print(t2)\n",
    "t2[0]=t1\n",
    "t2"
   ]
  },
  {
   "cell_type": "code",
   "execution_count": 46,
   "metadata": {},
   "outputs": [
    {
     "name": "stdout",
     "output_type": "stream",
     "text": [
      "tensor([[1., 0., 1., 1., 1., 0., 1., 1., 1., 0., 1., 1.],\n",
      "        [1., 0., 1., 1., 1., 0., 1., 1., 1., 0., 1., 1.],\n",
      "        [1., 0., 1., 1., 1., 0., 1., 1., 1., 0., 1., 1.],\n",
      "        [1., 0., 1., 1., 1., 0., 1., 1., 1., 0., 1., 1.]], device='cuda:0')\n"
     ]
    }
   ],
   "source": [
    "#Concat\n",
    "t1 = torch.cat([tensor, tensor, tensor], dim=1)\n",
    "print(t1)"
   ]
  },
  {
   "cell_type": "code",
   "execution_count": 48,
   "metadata": {},
   "outputs": [
    {
     "name": "stdout",
     "output_type": "stream",
     "text": [
      "\n",
      "--tensor([[1., 0., 1., 1.],\n",
      "        [1., 0., 1., 1.],\n",
      "        [1., 0., 1., 1.],\n",
      "        [1., 0., 1., 1.]], device='cuda:0')\n",
      "dtype: torch.float32\n",
      "shape: torch.Size([4, 4])\n",
      "\n",
      "--tensor([[1., 0., 1., 1.],\n",
      "        [1., 0., 1., 1.],\n",
      "        [1., 0., 1., 1.],\n",
      "        [1., 0., 1., 1.]], device='cuda:0')\n",
      "dtype: torch.float32\n",
      "shape: torch.Size([4, 4])\n"
     ]
    }
   ],
   "source": [
    "#Multiplying\n",
    "get_variable_info(tensor.mul(tensor))\n",
    "#or\n",
    "get_variable_info(tensor*tensor)"
   ]
  },
  {
   "cell_type": "code",
   "execution_count": 49,
   "metadata": {},
   "outputs": [
    {
     "data": {
      "text/plain": [
       "tensor([[3., 3., 3., 3.],\n",
       "        [3., 3., 3., 3.],\n",
       "        [3., 3., 3., 3.],\n",
       "        [3., 3., 3., 3.]], device='cuda:0')"
      ]
     },
     "execution_count": 49,
     "metadata": {},
     "output_type": "execute_result"
    }
   ],
   "source": [
    "#matrix multiplication\n",
    "tensor.matmul(tensor.T)"
   ]
  },
  {
   "cell_type": "code",
   "execution_count": 52,
   "metadata": {},
   "outputs": [
    {
     "name": "stdout",
     "output_type": "stream",
     "text": [
      "\n",
      "--tensor([[1., 0., 1., 1.],\n",
      "        [1., 0., 1., 1.],\n",
      "        [1., 0., 1., 1.],\n",
      "        [1., 0., 1., 1.]], device='cuda:0')\n",
      "dtype: torch.float32\n",
      "shape: torch.Size([4, 4])\n",
      "\n",
      "--tensor([[6., 5., 6., 6.],\n",
      "        [6., 5., 6., 6.],\n",
      "        [6., 5., 6., 6.],\n",
      "        [6., 5., 6., 6.]], device='cuda:0')\n",
      "dtype: torch.float32\n",
      "shape: torch.Size([4, 4])\n"
     ]
    }
   ],
   "source": [
    "#In-place operations Operations that have a _ suffix are in-place. For example: x.copy_(y), x.t_(), will change x.\n",
    "get_variable_info(tensor)\n",
    "get_variable_info(tensor.add_(5))"
   ]
  },
  {
   "cell_type": "code",
   "execution_count": 53,
   "metadata": {},
   "outputs": [
    {
     "name": "stdout",
     "output_type": "stream",
     "text": [
      "\n",
      "--tensor([1., 1., 1., 1., 1.])\n",
      "dtype: torch.float32\n",
      "shape: torch.Size([5])\n",
      "\n",
      "--[1. 1. 1. 1. 1.]\n",
      "type: <class 'numpy.ndarray'>\n",
      "len: 5\n"
     ]
    }
   ],
   "source": [
    "#Bridge with NumPy\n",
    "t = torch.ones(5)\n",
    "get_variable_info(t)\n",
    "n = t.numpy() #taking tensor t and converting it into numpy object\n",
    "get_variable_info(n)"
   ]
  },
  {
   "cell_type": "code",
   "execution_count": 54,
   "metadata": {},
   "outputs": [
    {
     "name": "stdout",
     "output_type": "stream",
     "text": [
      "\n",
      "--tensor([2., 2., 2., 2., 2.])\n",
      "dtype: torch.float32\n",
      "shape: torch.Size([5])\n"
     ]
    }
   ],
   "source": [
    "t.add_(1) #change in the tensor reflects in the NumPy array.\n",
    "get_variable_info(t)"
   ]
  },
  {
   "cell_type": "code",
   "execution_count": 55,
   "metadata": {},
   "outputs": [
    {
     "name": "stdout",
     "output_type": "stream",
     "text": [
      "\n",
      "--[1. 1. 1. 1. 1.]\n",
      "type: <class 'numpy.ndarray'>\n",
      "len: 5\n",
      "\n",
      "--tensor([1., 1., 1., 1., 1.], dtype=torch.float64)\n",
      "dtype: torch.float64\n",
      "shape: torch.Size([5])\n"
     ]
    }
   ],
   "source": [
    "#NumPy array to Tensor\n",
    "n = np.ones(5)\n",
    "get_variable_info(n)\n",
    "t = torch.from_numpy(n)\n",
    "get_variable_info(t)"
   ]
  },
  {
   "cell_type": "code",
   "execution_count": 58,
   "metadata": {},
   "outputs": [
    {
     "name": "stdout",
     "output_type": "stream",
     "text": [
      "\n",
      "--tensor([4., 4., 4., 4., 4.], dtype=torch.float64)\n",
      "dtype: torch.float64\n",
      "shape: torch.Size([5])\n"
     ]
    }
   ],
   "source": [
    "np.add(n, 1, out=n) #change in np reflects in t\n",
    "get_variable_info(t)"
   ]
  }
 ],
 "metadata": {
  "kernelspec": {
   "display_name": "Python 3",
   "language": "python",
   "name": "python3"
  },
  "language_info": {
   "codemirror_mode": {
    "name": "ipython",
    "version": 3
   },
   "file_extension": ".py",
   "mimetype": "text/x-python",
   "name": "python",
   "nbconvert_exporter": "python",
   "pygments_lexer": "ipython3",
   "version": "3.8.3"
  }
 },
 "nbformat": 4,
 "nbformat_minor": 4
}
