{
 "cells": [
  {
   "cell_type": "markdown",
   "metadata": {},
   "source": [
    "#referred videos, notes etc...\n",
    "Topic modeliing with Singular Value Decomposition (SVD) and Non-negatice Matrix Factoriztion (NMF)\n",
    "https://www.fast.ai/2019/07/08/fastai-nlp/\n",
    "https://www.youtube.com/watch?v=tG3pUwmGjsc&list=PLtmWHNX-gukKocXQOkQjuVxglSDYWsSh9&index=2\n",
    "https://github.com/fastai/course-nlp/blob/master/2-svd-nmf-topic-modeling.ipynb"
   ]
  },
  {
   "cell_type": "markdown",
   "metadata": {},
   "source": [
    "## What is matrix decomposition?"
   ]
  },
  {
   "cell_type": "raw",
   "metadata": {},
   "source": [
    "A matrix decomposition is a way of reducing a matrix into its constituent parts.\n",
    "It is an approach that can simplify more complex matrix operations that can be performed on the decomposed matrix rather than on the original matrix itself.\n",
    "A common analogy for matrix decomposition is the factoring of numbers, such as the factoring of 10 into 2 x 5. For this reason, matrix decomposition is also called matrix factorization. Like factoring real values, there are many ways to decompose a matrix, hence there are a range of different matrix decomposition techniques.\n",
    "Two simple and widely used matrix decomposition methods are the LU matrix decomposition and the QR matrix decomposition."
   ]
  },
  {
   "cell_type": "code",
   "execution_count": null,
   "metadata": {},
   "outputs": [],
   "source": [
    " #term-document matrix"
   ]
  }
 ],
 "metadata": {
  "kernelspec": {
   "display_name": "Python 3",
   "language": "python",
   "name": "python3"
  },
  "language_info": {
   "codemirror_mode": {
    "name": "ipython",
    "version": 3
   },
   "file_extension": ".py",
   "mimetype": "text/x-python",
   "name": "python",
   "nbconvert_exporter": "python",
   "pygments_lexer": "ipython3",
   "version": "3.8.3"
  }
 },
 "nbformat": 4,
 "nbformat_minor": 4
}
