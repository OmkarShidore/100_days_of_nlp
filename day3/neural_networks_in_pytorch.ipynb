{
 "cells": [
  {
   "cell_type": "code",
   "execution_count": 2,
   "metadata": {},
   "outputs": [],
   "source": [
    "#referring tutorial by Soumith Chintala\n",
    "#Deep Learning with PyTorch: A 60 Minute Blitz \n",
    "# https://pytorch.org/tutorials/beginner/blitz/neural_networks_tutorial.html#sphx-glr-beginner-blitz-neural-networks-tutorial-py"
   ]
  },
  {
   "cell_type": "code",
   "execution_count": 3,
   "metadata": {},
   "outputs": [],
   "source": [
    "#A typical training procedure for a neural network is as follows:\n",
    "\n",
    "    #Define the neural network that has some learnable parameters (or weights)\n",
    "    #Iterate over a dataset of inputs\n",
    "    #Process input through the network\n",
    "    #Compute the loss (how far is the output from being correct)\n",
    "    #Propagate gradients back into the network’s parameters\n",
    "    #Update the weights of the network, typically using a simple update rule: \n",
    "    #weight = weight - learning_rate * gradient"
   ]
  },
  {
   "cell_type": "code",
   "execution_count": 5,
   "metadata": {},
   "outputs": [],
   "source": [
    "import torch\n",
    "import torch.nn as nn\n",
    "import torch.nn.functional as F"
   ]
  },
  {
   "cell_type": "code",
   "execution_count": 29,
   "metadata": {},
   "outputs": [],
   "source": [
    "class Net(nn.Module):\n",
    "    def __init__(self):\n",
    "        super(Net, self).__init__()\n",
    "        #input_channel/depth: 1, output_channel/depth: 6, kernel/size_of_filter: 5x5\n",
    "        self.convolution_layer1 = nn.Conv2d(in_channels=1, out_channels=6, kernel_size=5)\n",
    "        self.convolution_layer2 = nn.Conv2d(6, 16, 5) #parameter names as above layer\n",
    "        self.fully_connected_layer1 = nn.Linear(in_features=16*5*5, out_features=120)\n",
    "        self.fully_connected_layer2 = nn.Linear(120, 84)#parameter names as above layer\n",
    "        self.fully_connected_layer3 = nn.Linear(84, 10)\n",
    "    \n",
    "    def forward(self, x):\n",
    "        x = self.convolution_layer1(x)\n",
    "        x = F.relu(x)\n",
    "        x = F.max_pool2d(x, (2,2))\n",
    "\n",
    "        x = self.convolution_layer2(x)\n",
    "        x = F.relu(x)\n",
    "        x = F.max_pool2d(x, (2,2))\n",
    "        \n",
    "        # flatten convolution output before feeding it to fully connected layer\n",
    "        x = torch.flatten(x, 1) #flattens all dimension except batch dimension\n",
    "\n",
    "        x = self.fully_connected_layer1(x)\n",
    "        x= F.relu(x)\n",
    "\n",
    "        x = self.fully_connected_layer2(x)\n",
    "        x = F.relu(x)\n",
    "        \n",
    "        x = self.fully_connected_layer3(x)\n",
    "        \n",
    "        return x"
   ]
  },
  {
   "cell_type": "code",
   "execution_count": 30,
   "metadata": {},
   "outputs": [],
   "source": [
    "net = Net()"
   ]
  },
  {
   "cell_type": "code",
   "execution_count": 31,
   "metadata": {},
   "outputs": [
    {
     "data": {
      "text/plain": [
       "Net(\n",
       "  (convolution_layer1): Conv2d(1, 6, kernel_size=(5, 5), stride=(1, 1))\n",
       "  (convolution_layer2): Conv2d(6, 16, kernel_size=(5, 5), stride=(1, 1))\n",
       "  (fully_connected_layer1): Linear(in_features=400, out_features=120, bias=True)\n",
       "  (fully_connected_layer2): Linear(in_features=120, out_features=84, bias=True)\n",
       "  (fully_connected_layer3): Linear(in_features=84, out_features=10, bias=True)\n",
       ")"
      ]
     },
     "execution_count": 31,
     "metadata": {},
     "output_type": "execute_result"
    }
   ],
   "source": [
    "net"
   ]
  },
  {
   "cell_type": "code",
   "execution_count": 32,
   "metadata": {},
   "outputs": [
    {
     "name": "stdout",
     "output_type": "stream",
     "text": [
      "len of parameters: 10\n",
      "torch.Size([6, 1, 5, 5])\n",
      "tensor([[ 0.0893, -0.1300, -0.1894, -0.0971,  0.0847],\n",
      "        [ 0.1682,  0.0047, -0.1227,  0.1464,  0.0493],\n",
      "        [ 0.0637,  0.1271,  0.1014, -0.1777, -0.1160],\n",
      "        [ 0.1465, -0.0948, -0.0067, -0.1855,  0.0125],\n",
      "        [-0.0749, -0.1677,  0.0065,  0.0723, -0.1954]],\n",
      "       grad_fn=<SelectBackward>)\n"
     ]
    }
   ],
   "source": [
    "parameters = list(net.parameters())\n",
    "print(f\"len of parameters: {len(parameters)}\")\n",
    "print(parameters[0].size()) #convolution_layer1's weights\n",
    "print(parameters[0][0][0])"
   ]
  },
  {
   "cell_type": "code",
   "execution_count": 33,
   "metadata": {},
   "outputs": [
    {
     "data": {
      "text/plain": [
       "tensor([[[[ 0.1155,  1.8552, -0.1924,  ...,  0.0400,  2.1606, -1.8923],\n",
       "          [-1.7216, -0.3864, -0.6514,  ...,  0.4989,  0.6088,  0.6107],\n",
       "          [-1.4288,  3.5789,  1.4896,  ..., -0.3592,  0.4668, -0.9086],\n",
       "          ...,\n",
       "          [-1.0659,  0.4517, -0.0489,  ...,  2.6738,  1.4880, -0.1249],\n",
       "          [-1.7044, -0.6872,  0.8221,  ..., -0.5326, -0.0487,  1.1942],\n",
       "          [ 2.1396,  0.8312, -0.0056,  ..., -0.3850,  1.4916, -0.0119]]]])"
      ]
     },
     "execution_count": 33,
     "metadata": {},
     "output_type": "execute_result"
    }
   ],
   "source": [
    "#Let’s try a random 32x32 input on Net() object\n",
    "input_data = torch.randn(1, 1, 32, 32)\n",
    "input_data"
   ]
  },
  {
   "cell_type": "code",
   "execution_count": 34,
   "metadata": {},
   "outputs": [
    {
     "name": "stdout",
     "output_type": "stream",
     "text": [
      "output: tensor([[ 0.0421, -0.0473,  0.0209, -0.0232, -0.0098,  0.0325, -0.0553,  0.0060,\n",
      "         -0.0698,  0.1013]], grad_fn=<AddmmBackward>)\n",
      "length: torch.Size([1, 10])\n"
     ]
    }
   ],
   "source": [
    "output = net(input_data)\n",
    "print(f\"output: {output}\")\n",
    "print(f\"length: {output.shape}\") #1x10 as in 10 classes in output of final layer"
   ]
  },
  {
   "cell_type": "code",
   "execution_count": 35,
   "metadata": {},
   "outputs": [],
   "source": [
    "net.zero_grad() #Zero the gradient buffers of all parameters\n",
    "output.backward(torch.randn(1, 10)) #backprops with random gradients:"
   ]
  },
  {
   "cell_type": "raw",
   "metadata": {},
   "source": [
    "Recap:\n",
    "torch.Tensor - A multi-dimensional array with support for autograd operations like backward(). Also holds the gradient w.r.t. the tensor.\n",
    "nn.Module - Neural network module. Convenient way of encapsulating parameters, with helpers for moving them to GPU, exporting, loading, etc.\n",
    "nn.Parameter - A kind of Tensor, that is automatically registered as a parameter when assigned as an attribute to a Module.\n",
    "autograd.Function - Implements forward and backward definitions of an autograd operation. Every Tensor operation creates at least a single Function node that connects to functions that created a Tensor and encodes its history.\n",
    "At this point, we covered:\n",
    "Defining a neural network\n",
    "Processing inputs and calling backward\n",
    "Still Left:\n",
    "Computing the loss\n",
    "Updating the weights of the network"
   ]
  },
  {
   "cell_type": "code",
   "execution_count": 98,
   "metadata": {},
   "outputs": [],
   "source": [
    "#Loss Function\n",
    "#A loss function takes the (output, target) pair of inputs,\n",
    "#and computes a value that estimates how far away the output is from the target.\n",
    "output = net(input_data)\n",
    "target = torch.randn(10)  # a dummy target, for example\n",
    "target = target.view(1, -1)  # make it the same shape as output"
   ]
  },
  {
   "cell_type": "code",
   "execution_count": 99,
   "metadata": {},
   "outputs": [
    {
     "data": {
      "text/plain": [
       "tensor([[[ 0.0893, -0.1300, -0.1894, -0.0971,  0.0847],\n",
       "         [ 0.1682,  0.0047, -0.1227,  0.1464,  0.0493],\n",
       "         [ 0.0637,  0.1271,  0.1014, -0.1777, -0.1160],\n",
       "         [ 0.1465, -0.0948, -0.0067, -0.1855,  0.0125],\n",
       "         [-0.0749, -0.1677,  0.0065,  0.0723, -0.1954]]],\n",
       "       grad_fn=<SelectBackward>)"
      ]
     },
     "execution_count": 99,
     "metadata": {},
     "output_type": "execute_result"
    }
   ],
   "source": [
    "print('conv1.bias.grad before backward')\n",
    "print(net.convolution_layer1.bias.grad)\n",
    "print('conv1.weights.grad before backward')\n",
    "print(net.convolution_layer1.weight.grad)"
   ]
  },
  {
   "cell_type": "code",
   "execution_count": 100,
   "metadata": {},
   "outputs": [
    {
     "name": "stdout",
     "output_type": "stream",
     "text": [
      "tensor([[ 0.0421, -0.0473,  0.0209, -0.0232, -0.0098,  0.0325, -0.0553,  0.0060,\n",
      "         -0.0698,  0.1013]], grad_fn=<AddmmBackward>)\n",
      "shape: torch.Size([1, 10])\n"
     ]
    }
   ],
   "source": [
    "print(f\"{output}\")\n",
    "print(f\"shape: {output.shape}\")"
   ]
  },
  {
   "cell_type": "code",
   "execution_count": 101,
   "metadata": {},
   "outputs": [
    {
     "name": "stdout",
     "output_type": "stream",
     "text": [
      "tensor([[ 1.5852, -0.7094, -1.2697,  0.3324, -1.0752, -0.8667,  0.2802, -1.2595,\n",
      "          0.3636, -0.9211]])\n",
      "shape: torch.Size([1, 10])\n"
     ]
    }
   ],
   "source": [
    "print(f\"{target}\")\n",
    "print(f\"shape: {target.shape}\")"
   ]
  },
  {
   "cell_type": "code",
   "execution_count": 102,
   "metadata": {},
   "outputs": [
    {
     "data": {
      "text/plain": [
       "tensor(0.9503, grad_fn=<MseLossBackward>)"
      ]
     },
     "execution_count": 102,
     "metadata": {},
     "output_type": "execute_result"
    }
   ],
   "source": [
    "criterion = nn.MSELoss()\n",
    "loss = criterion(output, target)\n",
    "loss"
   ]
  },
  {
   "cell_type": "code",
   "execution_count": 103,
   "metadata": {},
   "outputs": [],
   "source": [
    "loss.backward()"
   ]
  },
  {
   "cell_type": "code",
   "execution_count": 104,
   "metadata": {},
   "outputs": [
    {
     "data": {
      "text/plain": [
       "tensor([[[ 0.0893, -0.1300, -0.1894, -0.0971,  0.0847],\n",
       "         [ 0.1682,  0.0047, -0.1227,  0.1464,  0.0493],\n",
       "         [ 0.0637,  0.1271,  0.1014, -0.1777, -0.1160],\n",
       "         [ 0.1465, -0.0948, -0.0067, -0.1855,  0.0125],\n",
       "         [-0.0749, -0.1677,  0.0065,  0.0723, -0.1954]]],\n",
       "       grad_fn=<SelectBackward>)"
      ]
     },
     "execution_count": 104,
     "metadata": {},
     "output_type": "execute_result"
    }
   ],
   "source": [
    "net.convolution_layer1.weight[0]"
   ]
  },
  {
   "cell_type": "code",
   "execution_count": 105,
   "metadata": {},
   "outputs": [],
   "source": [
    "net.zero_grad() # zeroes the gradient buffers of all parameters"
   ]
  },
  {
   "cell_type": "code",
   "execution_count": 106,
   "metadata": {},
   "outputs": [
    {
     "name": "stdout",
     "output_type": "stream",
     "text": [
      "conv1.bias.grad before backward\n",
      "tensor([0., 0., 0., 0., 0., 0.])\n",
      "conv1.weights.grad before backward\n",
      "tensor([[[[0., 0., 0., 0., 0.],\n",
      "          [0., 0., 0., 0., 0.],\n",
      "          [0., 0., 0., 0., 0.],\n",
      "          [0., 0., 0., 0., 0.],\n",
      "          [0., 0., 0., 0., 0.]]],\n",
      "\n",
      "\n",
      "        [[[0., 0., 0., 0., 0.],\n",
      "          [0., 0., 0., 0., 0.],\n",
      "          [0., 0., 0., 0., 0.],\n",
      "          [0., 0., 0., 0., 0.],\n",
      "          [0., 0., 0., 0., 0.]]],\n",
      "\n",
      "\n",
      "        [[[0., 0., 0., 0., 0.],\n",
      "          [0., 0., 0., 0., 0.],\n",
      "          [0., 0., 0., 0., 0.],\n",
      "          [0., 0., 0., 0., 0.],\n",
      "          [0., 0., 0., 0., 0.]]],\n",
      "\n",
      "\n",
      "        [[[0., 0., 0., 0., 0.],\n",
      "          [0., 0., 0., 0., 0.],\n",
      "          [0., 0., 0., 0., 0.],\n",
      "          [0., 0., 0., 0., 0.],\n",
      "          [0., 0., 0., 0., 0.]]],\n",
      "\n",
      "\n",
      "        [[[0., 0., 0., 0., 0.],\n",
      "          [0., 0., 0., 0., 0.],\n",
      "          [0., 0., 0., 0., 0.],\n",
      "          [0., 0., 0., 0., 0.],\n",
      "          [0., 0., 0., 0., 0.]]],\n",
      "\n",
      "\n",
      "        [[[0., 0., 0., 0., 0.],\n",
      "          [0., 0., 0., 0., 0.],\n",
      "          [0., 0., 0., 0., 0.],\n",
      "          [0., 0., 0., 0., 0.],\n",
      "          [0., 0., 0., 0., 0.]]]])\n"
     ]
    }
   ],
   "source": []
  },
  {
   "cell_type": "code",
   "execution_count": 107,
   "metadata": {},
   "outputs": [
    {
     "ename": "RuntimeError",
     "evalue": "Trying to backward through the graph a second time, but the saved intermediate results have already been freed. Specify retain_graph=True when calling backward the first time.",
     "output_type": "error",
     "traceback": [
      "\u001b[1;31m---------------------------------------------------------------------------\u001b[0m",
      "\u001b[1;31mRuntimeError\u001b[0m                              Traceback (most recent call last)",
      "\u001b[1;32m<ipython-input-107-52a0569421b1>\u001b[0m in \u001b[0;36m<module>\u001b[1;34m\u001b[0m\n\u001b[1;32m----> 1\u001b[1;33m \u001b[0mloss\u001b[0m\u001b[1;33m.\u001b[0m\u001b[0mbackward\u001b[0m\u001b[1;33m(\u001b[0m\u001b[1;33m)\u001b[0m\u001b[1;33m\u001b[0m\u001b[1;33m\u001b[0m\u001b[0m\n\u001b[0m",
      "\u001b[1;32mD:\\anaconda\\lib\\site-packages\\torch\\tensor.py\u001b[0m in \u001b[0;36mbackward\u001b[1;34m(self, gradient, retain_graph, create_graph)\u001b[0m\n\u001b[0;32m    183\u001b[0m                 \u001b[0mproducts\u001b[0m\u001b[1;33m.\u001b[0m \u001b[0mDefaults\u001b[0m \u001b[0mto\u001b[0m\u001b[0;31m \u001b[0m\u001b[0;31m`\u001b[0m\u001b[0;31m`\u001b[0m\u001b[1;32mFalse\u001b[0m\u001b[0;31m`\u001b[0m\u001b[0;31m`\u001b[0m\u001b[1;33m.\u001b[0m\u001b[1;33m\u001b[0m\u001b[1;33m\u001b[0m\u001b[0m\n\u001b[0;32m    184\u001b[0m         \"\"\"\n\u001b[1;32m--> 185\u001b[1;33m         \u001b[0mtorch\u001b[0m\u001b[1;33m.\u001b[0m\u001b[0mautograd\u001b[0m\u001b[1;33m.\u001b[0m\u001b[0mbackward\u001b[0m\u001b[1;33m(\u001b[0m\u001b[0mself\u001b[0m\u001b[1;33m,\u001b[0m \u001b[0mgradient\u001b[0m\u001b[1;33m,\u001b[0m \u001b[0mretain_graph\u001b[0m\u001b[1;33m,\u001b[0m \u001b[0mcreate_graph\u001b[0m\u001b[1;33m)\u001b[0m\u001b[1;33m\u001b[0m\u001b[1;33m\u001b[0m\u001b[0m\n\u001b[0m\u001b[0;32m    186\u001b[0m \u001b[1;33m\u001b[0m\u001b[0m\n\u001b[0;32m    187\u001b[0m     \u001b[1;32mdef\u001b[0m \u001b[0mregister_hook\u001b[0m\u001b[1;33m(\u001b[0m\u001b[0mself\u001b[0m\u001b[1;33m,\u001b[0m \u001b[0mhook\u001b[0m\u001b[1;33m)\u001b[0m\u001b[1;33m:\u001b[0m\u001b[1;33m\u001b[0m\u001b[1;33m\u001b[0m\u001b[0m\n",
      "\u001b[1;32mD:\\anaconda\\lib\\site-packages\\torch\\autograd\\__init__.py\u001b[0m in \u001b[0;36mbackward\u001b[1;34m(tensors, grad_tensors, retain_graph, create_graph, grad_variables)\u001b[0m\n\u001b[0;32m    123\u001b[0m         \u001b[0mretain_graph\u001b[0m \u001b[1;33m=\u001b[0m \u001b[0mcreate_graph\u001b[0m\u001b[1;33m\u001b[0m\u001b[1;33m\u001b[0m\u001b[0m\n\u001b[0;32m    124\u001b[0m \u001b[1;33m\u001b[0m\u001b[0m\n\u001b[1;32m--> 125\u001b[1;33m     Variable._execution_engine.run_backward(\n\u001b[0m\u001b[0;32m    126\u001b[0m         \u001b[0mtensors\u001b[0m\u001b[1;33m,\u001b[0m \u001b[0mgrad_tensors\u001b[0m\u001b[1;33m,\u001b[0m \u001b[0mretain_graph\u001b[0m\u001b[1;33m,\u001b[0m \u001b[0mcreate_graph\u001b[0m\u001b[1;33m,\u001b[0m\u001b[1;33m\u001b[0m\u001b[1;33m\u001b[0m\u001b[0m\n\u001b[0;32m    127\u001b[0m         allow_unreachable=True)  # allow_unreachable flag\n",
      "\u001b[1;31mRuntimeError\u001b[0m: Trying to backward through the graph a second time, but the saved intermediate results have already been freed. Specify retain_graph=True when calling backward the first time."
     ]
    }
   ],
   "source": [
    "loss.backward()"
   ]
  },
  {
   "cell_type": "code",
   "execution_count": null,
   "metadata": {},
   "outputs": [],
   "source": []
  },
  {
   "cell_type": "code",
   "execution_count": null,
   "metadata": {},
   "outputs": [],
   "source": []
  },
  {
   "cell_type": "code",
   "execution_count": null,
   "metadata": {},
   "outputs": [],
   "source": []
  },
  {
   "cell_type": "code",
   "execution_count": null,
   "metadata": {},
   "outputs": [],
   "source": []
  },
  {
   "cell_type": "code",
   "execution_count": null,
   "metadata": {},
   "outputs": [],
   "source": []
  }
 ],
 "metadata": {
  "kernelspec": {
   "display_name": "Python 3",
   "language": "python",
   "name": "python3"
  },
  "language_info": {
   "codemirror_mode": {
    "name": "ipython",
    "version": 3
   },
   "file_extension": ".py",
   "mimetype": "text/x-python",
   "name": "python",
   "nbconvert_exporter": "python",
   "pygments_lexer": "ipython3",
   "version": "3.8.3"
  }
 },
 "nbformat": 4,
 "nbformat_minor": 4
}
