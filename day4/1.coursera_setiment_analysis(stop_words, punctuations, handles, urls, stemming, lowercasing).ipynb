{
 "cells": [
  {
   "cell_type": "code",
   "execution_count": 2,
   "metadata": {},
   "outputs": [],
   "source": [
    "#preprocessinga\n",
    "#https://www.coursera.org/learn/classification-vector-spaces-in-nlp/home/welcome"
   ]
  },
  {
   "cell_type": "markdown",
   "metadata": {},
   "source": [
    "# Removing \"stop words\"and \"punctuation\""
   ]
  },
  {
   "cell_type": "markdown",
   "metadata": {},
   "source": [
    "## lets take an example of the below tweet\n",
    "\n",
    "\n",
    "@YMouri and @AndrewNG are tuning a Great AI model httpsL//deeplearning.ai\n",
    "\n",
    "\n",
    "stop words: and, is, a, at, has, for, of\n",
    "\n",
    "punctuation: , . : ! \" '"
   ]
  },
  {
   "cell_type": "markdown",
   "metadata": {},
   "source": [
    "## after removing stop words the tweet looks like this:\n",
    " @YMouri @AndrewNG tuning Great AI model httpsL//deeplearning.ai"
   ]
  },
  {
   "cell_type": "markdown",
   "metadata": {},
   "source": [
    "## after removing punctuation the tweet looks like:\n",
    "@YMouri @AndrewNG tuning Great AI model https://deeplearningai"
   ]
  },
  {
   "cell_type": "raw",
   "metadata": {},
   "source": [
    "# "
   ]
  },
  {
   "cell_type": "markdown",
   "metadata": {},
   "source": [
    "# Removing \"handles\"and \"urls\""
   ]
  },
  {
   "cell_type": "markdown",
   "metadata": {},
   "source": [
    "## after removing handles and urls \n",
    "##### (this is optional, as the handles don't make any value for sentiment analysis\n",
    "\n",
    "## after removing handles and URLs the tweet looks like:\n",
    "tuning Great AI model"
   ]
  },
  {
   "cell_type": "code",
   "execution_count": null,
   "metadata": {},
   "outputs": [],
   "source": []
  },
  {
   "cell_type": "markdown",
   "metadata": {},
   "source": [
    "# Stemming and Lowercasing"
   ]
  },
  {
   "cell_type": "markdown",
   "metadata": {},
   "source": [
    "tun (stemming):\n",
    "    tune\n",
    "    tuning\n",
    "    tuned\n",
    "    \n",
    "Great:\n",
    "    great\n",
    "\n",
    "AI:\n",
    "    ai\n",
    " \n",
    "model:\n",
    "    model"
   ]
  },
  {
   "cell_type": "markdown",
   "metadata": {},
   "source": [
    "#preprocessed tweet as a list of word\n",
    "\n",
    "[tun, great, ai, model]"
   ]
  },
  {
   "cell_type": "raw",
   "metadata": {},
   "source": []
  }
 ],
 "metadata": {
  "kernelspec": {
   "display_name": "Python 3",
   "language": "python",
   "name": "python3"
  },
  "language_info": {
   "codemirror_mode": {
    "name": "ipython",
    "version": 3
   },
   "file_extension": ".py",
   "mimetype": "text/x-python",
   "name": "python",
   "nbconvert_exporter": "python",
   "pygments_lexer": "ipython3",
   "version": "3.8.3"
  }
 },
 "nbformat": 4,
 "nbformat_minor": 4
}
